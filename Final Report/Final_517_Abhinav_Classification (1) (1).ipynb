{
 "cells": [
  {
   "cell_type": "code",
   "execution_count": 10,
   "metadata": {},
   "outputs": [
    {
     "data": {
      "text/html": [
       "<div>\n",
       "<style scoped>\n",
       "    .dataframe tbody tr th:only-of-type {\n",
       "        vertical-align: middle;\n",
       "    }\n",
       "\n",
       "    .dataframe tbody tr th {\n",
       "        vertical-align: top;\n",
       "    }\n",
       "\n",
       "    .dataframe thead th {\n",
       "        text-align: right;\n",
       "    }\n",
       "</style>\n",
       "<table border=\"1\" class=\"dataframe\">\n",
       "  <thead>\n",
       "    <tr style=\"text-align: right;\">\n",
       "      <th></th>\n",
       "      <th>Unnamed: 0</th>\n",
       "      <th>X</th>\n",
       "      <th>draw_size</th>\n",
       "      <th>tourney_level</th>\n",
       "      <th>tourney_date</th>\n",
       "      <th>match_num</th>\n",
       "      <th>winner_id</th>\n",
       "      <th>winner_name</th>\n",
       "      <th>winner_hand</th>\n",
       "      <th>winner_ht</th>\n",
       "      <th>...</th>\n",
       "      <th>w_bpFaced</th>\n",
       "      <th>l_ace</th>\n",
       "      <th>l_df</th>\n",
       "      <th>l_svpt</th>\n",
       "      <th>l_1stIn</th>\n",
       "      <th>l_1stWon</th>\n",
       "      <th>l_2ndWon</th>\n",
       "      <th>l_SvGms</th>\n",
       "      <th>l_bpSaved</th>\n",
       "      <th>l_bpFaced</th>\n",
       "    </tr>\n",
       "  </thead>\n",
       "  <tbody>\n",
       "    <tr>\n",
       "      <th>0</th>\n",
       "      <td>1</td>\n",
       "      <td>1</td>\n",
       "      <td>32</td>\n",
       "      <td>A</td>\n",
       "      <td>20180101</td>\n",
       "      <td>300</td>\n",
       "      <td>106401</td>\n",
       "      <td>Nick Kyrgios</td>\n",
       "      <td>1</td>\n",
       "      <td>193</td>\n",
       "      <td>...</td>\n",
       "      <td>5</td>\n",
       "      <td>8</td>\n",
       "      <td>3</td>\n",
       "      <td>58</td>\n",
       "      <td>32</td>\n",
       "      <td>22</td>\n",
       "      <td>12</td>\n",
       "      <td>9</td>\n",
       "      <td>4</td>\n",
       "      <td>7</td>\n",
       "    </tr>\n",
       "    <tr>\n",
       "      <th>1</th>\n",
       "      <td>2</td>\n",
       "      <td>2</td>\n",
       "      <td>32</td>\n",
       "      <td>A</td>\n",
       "      <td>20180101</td>\n",
       "      <td>299</td>\n",
       "      <td>106401</td>\n",
       "      <td>Nick Kyrgios</td>\n",
       "      <td>1</td>\n",
       "      <td>193</td>\n",
       "      <td>...</td>\n",
       "      <td>2</td>\n",
       "      <td>5</td>\n",
       "      <td>6</td>\n",
       "      <td>74</td>\n",
       "      <td>44</td>\n",
       "      <td>32</td>\n",
       "      <td>16</td>\n",
       "      <td>13</td>\n",
       "      <td>3</td>\n",
       "      <td>6</td>\n",
       "    </tr>\n",
       "    <tr>\n",
       "      <th>2</th>\n",
       "      <td>3</td>\n",
       "      <td>3</td>\n",
       "      <td>32</td>\n",
       "      <td>A</td>\n",
       "      <td>20180101</td>\n",
       "      <td>298</td>\n",
       "      <td>105992</td>\n",
       "      <td>Ryan Harrison</td>\n",
       "      <td>1</td>\n",
       "      <td>183</td>\n",
       "      <td>...</td>\n",
       "      <td>6</td>\n",
       "      <td>9</td>\n",
       "      <td>5</td>\n",
       "      <td>94</td>\n",
       "      <td>62</td>\n",
       "      <td>49</td>\n",
       "      <td>16</td>\n",
       "      <td>16</td>\n",
       "      <td>0</td>\n",
       "      <td>3</td>\n",
       "    </tr>\n",
       "    <tr>\n",
       "      <th>3</th>\n",
       "      <td>4</td>\n",
       "      <td>4</td>\n",
       "      <td>32</td>\n",
       "      <td>A</td>\n",
       "      <td>20180101</td>\n",
       "      <td>297</td>\n",
       "      <td>105777</td>\n",
       "      <td>Grigor Dimitrov</td>\n",
       "      <td>1</td>\n",
       "      <td>188</td>\n",
       "      <td>...</td>\n",
       "      <td>2</td>\n",
       "      <td>6</td>\n",
       "      <td>1</td>\n",
       "      <td>89</td>\n",
       "      <td>53</td>\n",
       "      <td>39</td>\n",
       "      <td>23</td>\n",
       "      <td>15</td>\n",
       "      <td>4</td>\n",
       "      <td>6</td>\n",
       "    </tr>\n",
       "    <tr>\n",
       "      <th>4</th>\n",
       "      <td>5</td>\n",
       "      <td>5</td>\n",
       "      <td>32</td>\n",
       "      <td>A</td>\n",
       "      <td>20180101</td>\n",
       "      <td>296</td>\n",
       "      <td>106401</td>\n",
       "      <td>Nick Kyrgios</td>\n",
       "      <td>1</td>\n",
       "      <td>193</td>\n",
       "      <td>...</td>\n",
       "      <td>3</td>\n",
       "      <td>6</td>\n",
       "      <td>3</td>\n",
       "      <td>75</td>\n",
       "      <td>41</td>\n",
       "      <td>33</td>\n",
       "      <td>16</td>\n",
       "      <td>13</td>\n",
       "      <td>2</td>\n",
       "      <td>4</td>\n",
       "    </tr>\n",
       "  </tbody>\n",
       "</table>\n",
       "<p>5 rows × 41 columns</p>\n",
       "</div>"
      ],
      "text/plain": [
       "   Unnamed: 0  X  draw_size tourney_level  tourney_date  match_num  winner_id  \\\n",
       "0           1  1         32             A      20180101        300     106401   \n",
       "1           2  2         32             A      20180101        299     106401   \n",
       "2           3  3         32             A      20180101        298     105992   \n",
       "3           4  4         32             A      20180101        297     105777   \n",
       "4           5  5         32             A      20180101        296     106401   \n",
       "\n",
       "       winner_name  winner_hand  winner_ht    ...     w_bpFaced  l_ace  l_df  \\\n",
       "0     Nick Kyrgios            1        193    ...             5      8     3   \n",
       "1     Nick Kyrgios            1        193    ...             2      5     6   \n",
       "2    Ryan Harrison            1        183    ...             6      9     5   \n",
       "3  Grigor Dimitrov            1        188    ...             2      6     1   \n",
       "4     Nick Kyrgios            1        193    ...             3      6     3   \n",
       "\n",
       "   l_svpt l_1stIn l_1stWon  l_2ndWon l_SvGms  l_bpSaved  l_bpFaced  \n",
       "0      58      32       22        12       9          4          7  \n",
       "1      74      44       32        16      13          3          6  \n",
       "2      94      62       49        16      16          0          3  \n",
       "3      89      53       39        23      15          4          6  \n",
       "4      75      41       33        16      13          2          4  \n",
       "\n",
       "[5 rows x 41 columns]"
      ]
     },
     "execution_count": 10,
     "metadata": {},
     "output_type": "execute_result"
    }
   ],
   "source": [
    "import pandas as pd\n",
    "tennis = pd.read_csv(\"https://raw.githubusercontent.com/abhinav12347/stat-517/master/Stats_Final_Project_517_Updated_Abhinav.csv\")\n",
    "tennis.head()"
   ]
  },
  {
   "cell_type": "code",
   "execution_count": 12,
   "metadata": {},
   "outputs": [],
   "source": [
    "import numpy as np\n",
    "import pandas as pd\n",
    "import random as rnd\n",
    "import seaborn as sns\n",
    "import matplotlib.pyplot as plt\n",
    "%matplotlib inline\n",
    "from sklearn.linear_model import LogisticRegression\n",
    "from sklearn.svm import SVC, LinearSVC\n",
    "from sklearn.ensemble import RandomForestClassifier\n",
    "from sklearn.neighbors import KNeighborsClassifier\n",
    "from sklearn.naive_bayes import GaussianNB\n",
    "from sklearn.linear_model import Perceptron\n",
    "from sklearn.linear_model import SGDClassifier\n",
    "from sklearn.tree import DecisionTreeClassifier"
   ]
  },
  {
   "cell_type": "code",
   "execution_count": 13,
   "metadata": {},
   "outputs": [
    {
     "name": "stdout",
     "output_type": "stream",
     "text": [
      "['Unnamed: 0' 'X' 'draw_size' 'tourney_level' 'tourney_date' 'match_num'\n",
      " 'winner_id' 'winner_name' 'winner_hand' 'winner_ht' 'winner_ioc'\n",
      " 'winner_age' 'winner_rank_points' 'loser_id' 'loser_name' 'loser_hand'\n",
      " 'loser_ht' 'loser_ioc' 'loser_age' 'loser_rank_points' 'best_of' 'round'\n",
      " 'minutes' 'w_ace' 'w_df' 'w_svpt' 'w_1stIn' 'w_1stWon' 'w_2ndWon'\n",
      " 'w_SvGms' 'w_bpSaved' 'w_bpFaced' 'l_ace' 'l_df' 'l_svpt' 'l_1stIn'\n",
      " 'l_1stWon' 'l_2ndWon' 'l_SvGms' 'l_bpSaved' 'l_bpFaced']\n",
      "       tourney_level    winner_name winner_ioc       loser_name loser_hand  \\\n",
      "count          97888          97888      97888            97888      97857   \n",
      "unique             6           2223        121             3271          3   \n",
      "top                A  Roger Federer        USA  Fabrice Santoro          R   \n",
      "freq           57264           1179      12034              444      80995   \n",
      "\n",
      "       loser_ioc  round  \n",
      "count      97888  97888  \n",
      "unique       129      9  \n",
      "top          USA    R32  \n",
      "freq       10856  32312  \n"
     ]
    }
   ],
   "source": [
    "\n",
    "print (tennis.columns.values)\n",
    "print (tennis.describe(include=['O']))"
   ]
  },
  {
   "cell_type": "code",
   "execution_count": 14,
   "metadata": {
    "scrolled": true
   },
   "outputs": [
    {
     "data": {
      "text/html": [
       "<div>\n",
       "<style scoped>\n",
       "    .dataframe tbody tr th:only-of-type {\n",
       "        vertical-align: middle;\n",
       "    }\n",
       "\n",
       "    .dataframe tbody tr th {\n",
       "        vertical-align: top;\n",
       "    }\n",
       "\n",
       "    .dataframe thead th {\n",
       "        text-align: right;\n",
       "    }\n",
       "</style>\n",
       "<table border=\"1\" class=\"dataframe\">\n",
       "  <thead>\n",
       "    <tr style=\"text-align: right;\">\n",
       "      <th></th>\n",
       "      <th>Unnamed: 0</th>\n",
       "      <th>X</th>\n",
       "      <th>draw_size</th>\n",
       "      <th>tourney_level</th>\n",
       "      <th>tourney_date</th>\n",
       "      <th>match_num</th>\n",
       "      <th>winner_id</th>\n",
       "      <th>winner_name</th>\n",
       "      <th>winner_hand</th>\n",
       "      <th>winner_ht</th>\n",
       "      <th>...</th>\n",
       "      <th>w_bpFaced</th>\n",
       "      <th>l_ace</th>\n",
       "      <th>l_df</th>\n",
       "      <th>l_svpt</th>\n",
       "      <th>l_1stIn</th>\n",
       "      <th>l_1stWon</th>\n",
       "      <th>l_2ndWon</th>\n",
       "      <th>l_SvGms</th>\n",
       "      <th>l_bpSaved</th>\n",
       "      <th>l_bpFaced</th>\n",
       "    </tr>\n",
       "  </thead>\n",
       "  <tbody>\n",
       "    <tr>\n",
       "      <th>0</th>\n",
       "      <td>1</td>\n",
       "      <td>1</td>\n",
       "      <td>32</td>\n",
       "      <td>A</td>\n",
       "      <td>20180101</td>\n",
       "      <td>300</td>\n",
       "      <td>106401</td>\n",
       "      <td>Nick Kyrgios</td>\n",
       "      <td>1</td>\n",
       "      <td>193</td>\n",
       "      <td>...</td>\n",
       "      <td>5</td>\n",
       "      <td>8</td>\n",
       "      <td>3</td>\n",
       "      <td>58</td>\n",
       "      <td>32</td>\n",
       "      <td>22</td>\n",
       "      <td>12</td>\n",
       "      <td>9</td>\n",
       "      <td>4</td>\n",
       "      <td>7</td>\n",
       "    </tr>\n",
       "    <tr>\n",
       "      <th>1</th>\n",
       "      <td>2</td>\n",
       "      <td>2</td>\n",
       "      <td>32</td>\n",
       "      <td>A</td>\n",
       "      <td>20180101</td>\n",
       "      <td>299</td>\n",
       "      <td>106401</td>\n",
       "      <td>Nick Kyrgios</td>\n",
       "      <td>1</td>\n",
       "      <td>193</td>\n",
       "      <td>...</td>\n",
       "      <td>2</td>\n",
       "      <td>5</td>\n",
       "      <td>6</td>\n",
       "      <td>74</td>\n",
       "      <td>44</td>\n",
       "      <td>32</td>\n",
       "      <td>16</td>\n",
       "      <td>13</td>\n",
       "      <td>3</td>\n",
       "      <td>6</td>\n",
       "    </tr>\n",
       "    <tr>\n",
       "      <th>2</th>\n",
       "      <td>3</td>\n",
       "      <td>3</td>\n",
       "      <td>32</td>\n",
       "      <td>A</td>\n",
       "      <td>20180101</td>\n",
       "      <td>298</td>\n",
       "      <td>105992</td>\n",
       "      <td>Ryan Harrison</td>\n",
       "      <td>1</td>\n",
       "      <td>183</td>\n",
       "      <td>...</td>\n",
       "      <td>6</td>\n",
       "      <td>9</td>\n",
       "      <td>5</td>\n",
       "      <td>94</td>\n",
       "      <td>62</td>\n",
       "      <td>49</td>\n",
       "      <td>16</td>\n",
       "      <td>16</td>\n",
       "      <td>0</td>\n",
       "      <td>3</td>\n",
       "    </tr>\n",
       "    <tr>\n",
       "      <th>3</th>\n",
       "      <td>4</td>\n",
       "      <td>4</td>\n",
       "      <td>32</td>\n",
       "      <td>A</td>\n",
       "      <td>20180101</td>\n",
       "      <td>297</td>\n",
       "      <td>105777</td>\n",
       "      <td>Grigor Dimitrov</td>\n",
       "      <td>1</td>\n",
       "      <td>188</td>\n",
       "      <td>...</td>\n",
       "      <td>2</td>\n",
       "      <td>6</td>\n",
       "      <td>1</td>\n",
       "      <td>89</td>\n",
       "      <td>53</td>\n",
       "      <td>39</td>\n",
       "      <td>23</td>\n",
       "      <td>15</td>\n",
       "      <td>4</td>\n",
       "      <td>6</td>\n",
       "    </tr>\n",
       "    <tr>\n",
       "      <th>4</th>\n",
       "      <td>5</td>\n",
       "      <td>5</td>\n",
       "      <td>32</td>\n",
       "      <td>A</td>\n",
       "      <td>20180101</td>\n",
       "      <td>296</td>\n",
       "      <td>106401</td>\n",
       "      <td>Nick Kyrgios</td>\n",
       "      <td>1</td>\n",
       "      <td>193</td>\n",
       "      <td>...</td>\n",
       "      <td>3</td>\n",
       "      <td>6</td>\n",
       "      <td>3</td>\n",
       "      <td>75</td>\n",
       "      <td>41</td>\n",
       "      <td>33</td>\n",
       "      <td>16</td>\n",
       "      <td>13</td>\n",
       "      <td>2</td>\n",
       "      <td>4</td>\n",
       "    </tr>\n",
       "  </tbody>\n",
       "</table>\n",
       "<p>5 rows × 41 columns</p>\n",
       "</div>"
      ],
      "text/plain": [
       "   Unnamed: 0  X  draw_size tourney_level  tourney_date  match_num  winner_id  \\\n",
       "0           1  1         32             A      20180101        300     106401   \n",
       "1           2  2         32             A      20180101        299     106401   \n",
       "2           3  3         32             A      20180101        298     105992   \n",
       "3           4  4         32             A      20180101        297     105777   \n",
       "4           5  5         32             A      20180101        296     106401   \n",
       "\n",
       "       winner_name  winner_hand  winner_ht    ...     w_bpFaced  l_ace  l_df  \\\n",
       "0     Nick Kyrgios            1        193    ...             5      8     3   \n",
       "1     Nick Kyrgios            1        193    ...             2      5     6   \n",
       "2    Ryan Harrison            1        183    ...             6      9     5   \n",
       "3  Grigor Dimitrov            1        188    ...             2      6     1   \n",
       "4     Nick Kyrgios            1        193    ...             3      6     3   \n",
       "\n",
       "   l_svpt l_1stIn l_1stWon  l_2ndWon l_SvGms  l_bpSaved  l_bpFaced  \n",
       "0      58      32       22        12       9          4          7  \n",
       "1      74      44       32        16      13          3          6  \n",
       "2      94      62       49        16      16          0          3  \n",
       "3      89      53       39        23      15          4          6  \n",
       "4      75      41       33        16      13          2          4  \n",
       "\n",
       "[5 rows x 41 columns]"
      ]
     },
     "execution_count": 14,
     "metadata": {},
     "output_type": "execute_result"
    }
   ],
   "source": [
    "import seaborn as sns\n",
    "tennis.head()"
   ]
  },
  {
   "cell_type": "markdown",
   "metadata": {},
   "source": [
    "## Data Modelling"
   ]
  },
  {
   "cell_type": "markdown",
   "metadata": {},
   "source": [
    "The dataset consists of few catregorical values. These values should be converted into continuous variables, such that it would be easier for analysis. Hence, we make use of the pandas to get dummy values and then fill in the categorical values."
   ]
  },
  {
   "cell_type": "code",
   "execution_count": 16,
   "metadata": {},
   "outputs": [
    {
     "name": "stdout",
     "output_type": "stream",
     "text": [
      "(97888, 5796)\n"
     ]
    },
    {
     "data": {
      "text/html": [
       "<div>\n",
       "<style scoped>\n",
       "    .dataframe tbody tr th:only-of-type {\n",
       "        vertical-align: middle;\n",
       "    }\n",
       "\n",
       "    .dataframe tbody tr th {\n",
       "        vertical-align: top;\n",
       "    }\n",
       "\n",
       "    .dataframe thead th {\n",
       "        text-align: right;\n",
       "    }\n",
       "</style>\n",
       "<table border=\"1\" class=\"dataframe\">\n",
       "  <thead>\n",
       "    <tr style=\"text-align: right;\">\n",
       "      <th></th>\n",
       "      <th>Unnamed: 0</th>\n",
       "      <th>X</th>\n",
       "      <th>draw_size</th>\n",
       "      <th>tourney_date</th>\n",
       "      <th>match_num</th>\n",
       "      <th>winner_id</th>\n",
       "      <th>winner_hand</th>\n",
       "      <th>winner_ht</th>\n",
       "      <th>winner_age</th>\n",
       "      <th>winner_rank_points</th>\n",
       "      <th>...</th>\n",
       "      <th>loser_ioc_ZIM</th>\n",
       "      <th>round_BR</th>\n",
       "      <th>round_F</th>\n",
       "      <th>round_QF</th>\n",
       "      <th>round_R128</th>\n",
       "      <th>round_R16</th>\n",
       "      <th>round_R32</th>\n",
       "      <th>round_R64</th>\n",
       "      <th>round_RR</th>\n",
       "      <th>round_SF</th>\n",
       "    </tr>\n",
       "  </thead>\n",
       "  <tbody>\n",
       "    <tr>\n",
       "      <th>0</th>\n",
       "      <td>1</td>\n",
       "      <td>1</td>\n",
       "      <td>32</td>\n",
       "      <td>20180101</td>\n",
       "      <td>300</td>\n",
       "      <td>106401</td>\n",
       "      <td>1</td>\n",
       "      <td>193</td>\n",
       "      <td>22.683094</td>\n",
       "      <td>2010</td>\n",
       "      <td>...</td>\n",
       "      <td>0</td>\n",
       "      <td>0</td>\n",
       "      <td>1</td>\n",
       "      <td>0</td>\n",
       "      <td>0</td>\n",
       "      <td>0</td>\n",
       "      <td>0</td>\n",
       "      <td>0</td>\n",
       "      <td>0</td>\n",
       "      <td>0</td>\n",
       "    </tr>\n",
       "    <tr>\n",
       "      <th>1</th>\n",
       "      <td>2</td>\n",
       "      <td>2</td>\n",
       "      <td>32</td>\n",
       "      <td>20180101</td>\n",
       "      <td>299</td>\n",
       "      <td>106401</td>\n",
       "      <td>1</td>\n",
       "      <td>193</td>\n",
       "      <td>22.683094</td>\n",
       "      <td>2010</td>\n",
       "      <td>...</td>\n",
       "      <td>0</td>\n",
       "      <td>0</td>\n",
       "      <td>0</td>\n",
       "      <td>0</td>\n",
       "      <td>0</td>\n",
       "      <td>0</td>\n",
       "      <td>0</td>\n",
       "      <td>0</td>\n",
       "      <td>0</td>\n",
       "      <td>1</td>\n",
       "    </tr>\n",
       "    <tr>\n",
       "      <th>2</th>\n",
       "      <td>3</td>\n",
       "      <td>3</td>\n",
       "      <td>32</td>\n",
       "      <td>20180101</td>\n",
       "      <td>298</td>\n",
       "      <td>105992</td>\n",
       "      <td>1</td>\n",
       "      <td>183</td>\n",
       "      <td>25.653662</td>\n",
       "      <td>1010</td>\n",
       "      <td>...</td>\n",
       "      <td>0</td>\n",
       "      <td>0</td>\n",
       "      <td>0</td>\n",
       "      <td>0</td>\n",
       "      <td>0</td>\n",
       "      <td>0</td>\n",
       "      <td>0</td>\n",
       "      <td>0</td>\n",
       "      <td>0</td>\n",
       "      <td>1</td>\n",
       "    </tr>\n",
       "    <tr>\n",
       "      <th>3</th>\n",
       "      <td>4</td>\n",
       "      <td>4</td>\n",
       "      <td>32</td>\n",
       "      <td>20180101</td>\n",
       "      <td>297</td>\n",
       "      <td>105777</td>\n",
       "      <td>1</td>\n",
       "      <td>188</td>\n",
       "      <td>26.631075</td>\n",
       "      <td>5150</td>\n",
       "      <td>...</td>\n",
       "      <td>0</td>\n",
       "      <td>0</td>\n",
       "      <td>0</td>\n",
       "      <td>1</td>\n",
       "      <td>0</td>\n",
       "      <td>0</td>\n",
       "      <td>0</td>\n",
       "      <td>0</td>\n",
       "      <td>0</td>\n",
       "      <td>0</td>\n",
       "    </tr>\n",
       "    <tr>\n",
       "      <th>4</th>\n",
       "      <td>5</td>\n",
       "      <td>5</td>\n",
       "      <td>32</td>\n",
       "      <td>20180101</td>\n",
       "      <td>296</td>\n",
       "      <td>106401</td>\n",
       "      <td>1</td>\n",
       "      <td>193</td>\n",
       "      <td>22.683094</td>\n",
       "      <td>2010</td>\n",
       "      <td>...</td>\n",
       "      <td>0</td>\n",
       "      <td>0</td>\n",
       "      <td>0</td>\n",
       "      <td>1</td>\n",
       "      <td>0</td>\n",
       "      <td>0</td>\n",
       "      <td>0</td>\n",
       "      <td>0</td>\n",
       "      <td>0</td>\n",
       "      <td>0</td>\n",
       "    </tr>\n",
       "  </tbody>\n",
       "</table>\n",
       "<p>5 rows × 5796 columns</p>\n",
       "</div>"
      ],
      "text/plain": [
       "   Unnamed: 0  X  draw_size  tourney_date  match_num  winner_id  winner_hand  \\\n",
       "0           1  1         32      20180101        300     106401            1   \n",
       "1           2  2         32      20180101        299     106401            1   \n",
       "2           3  3         32      20180101        298     105992            1   \n",
       "3           4  4         32      20180101        297     105777            1   \n",
       "4           5  5         32      20180101        296     106401            1   \n",
       "\n",
       "   winner_ht  winner_age  winner_rank_points    ...     loser_ioc_ZIM  \\\n",
       "0        193   22.683094                2010    ...                 0   \n",
       "1        193   22.683094                2010    ...                 0   \n",
       "2        183   25.653662                1010    ...                 0   \n",
       "3        188   26.631075                5150    ...                 0   \n",
       "4        193   22.683094                2010    ...                 0   \n",
       "\n",
       "   round_BR  round_F  round_QF  round_R128  round_R16  round_R32  round_R64  \\\n",
       "0         0        1         0           0          0          0          0   \n",
       "1         0        0         0           0          0          0          0   \n",
       "2         0        0         0           0          0          0          0   \n",
       "3         0        0         1           0          0          0          0   \n",
       "4         0        0         1           0          0          0          0   \n",
       "\n",
       "   round_RR  round_SF  \n",
       "0         0         0  \n",
       "1         0         1  \n",
       "2         0         1  \n",
       "3         0         0  \n",
       "4         0         0  \n",
       "\n",
       "[5 rows x 5796 columns]"
      ]
     },
     "execution_count": 16,
     "metadata": {},
     "output_type": "execute_result"
    }
   ],
   "source": [
    "tennis_new = pd.get_dummies(tennis, columns=[\"tourney_level\", \"winner_name\", \"winner_ioc\", \"loser_name\", \"loser_hand\", \"loser_ioc\", \"round\"])\n",
    "print (tennis_new.shape)\n",
    "tennis_new.head()"
   ]
  },
  {
   "cell_type": "code",
   "execution_count": 17,
   "metadata": {
    "scrolled": true
   },
   "outputs": [
    {
     "data": {
      "text/html": [
       "<div>\n",
       "<style scoped>\n",
       "    .dataframe tbody tr th:only-of-type {\n",
       "        vertical-align: middle;\n",
       "    }\n",
       "\n",
       "    .dataframe tbody tr th {\n",
       "        vertical-align: top;\n",
       "    }\n",
       "\n",
       "    .dataframe thead th {\n",
       "        text-align: right;\n",
       "    }\n",
       "</style>\n",
       "<table border=\"1\" class=\"dataframe\">\n",
       "  <thead>\n",
       "    <tr style=\"text-align: right;\">\n",
       "      <th></th>\n",
       "      <th>Unnamed: 0</th>\n",
       "      <th>X</th>\n",
       "      <th>draw_size</th>\n",
       "      <th>tourney_date</th>\n",
       "      <th>match_num</th>\n",
       "      <th>winner_id</th>\n",
       "      <th>winner_hand</th>\n",
       "      <th>winner_ht</th>\n",
       "      <th>winner_age</th>\n",
       "      <th>winner_rank_points</th>\n",
       "      <th>...</th>\n",
       "      <th>loser_ioc_ZIM</th>\n",
       "      <th>round_BR</th>\n",
       "      <th>round_F</th>\n",
       "      <th>round_QF</th>\n",
       "      <th>round_R128</th>\n",
       "      <th>round_R16</th>\n",
       "      <th>round_R32</th>\n",
       "      <th>round_R64</th>\n",
       "      <th>round_RR</th>\n",
       "      <th>round_SF</th>\n",
       "    </tr>\n",
       "  </thead>\n",
       "  <tbody>\n",
       "    <tr>\n",
       "      <th>0</th>\n",
       "      <td>1</td>\n",
       "      <td>1</td>\n",
       "      <td>32</td>\n",
       "      <td>20180101</td>\n",
       "      <td>300</td>\n",
       "      <td>106401</td>\n",
       "      <td>1</td>\n",
       "      <td>193</td>\n",
       "      <td>22.683094</td>\n",
       "      <td>2010</td>\n",
       "      <td>...</td>\n",
       "      <td>0</td>\n",
       "      <td>0</td>\n",
       "      <td>1</td>\n",
       "      <td>0</td>\n",
       "      <td>0</td>\n",
       "      <td>0</td>\n",
       "      <td>0</td>\n",
       "      <td>0</td>\n",
       "      <td>0</td>\n",
       "      <td>0</td>\n",
       "    </tr>\n",
       "    <tr>\n",
       "      <th>1</th>\n",
       "      <td>2</td>\n",
       "      <td>2</td>\n",
       "      <td>32</td>\n",
       "      <td>20180101</td>\n",
       "      <td>299</td>\n",
       "      <td>106401</td>\n",
       "      <td>1</td>\n",
       "      <td>193</td>\n",
       "      <td>22.683094</td>\n",
       "      <td>2010</td>\n",
       "      <td>...</td>\n",
       "      <td>0</td>\n",
       "      <td>0</td>\n",
       "      <td>0</td>\n",
       "      <td>0</td>\n",
       "      <td>0</td>\n",
       "      <td>0</td>\n",
       "      <td>0</td>\n",
       "      <td>0</td>\n",
       "      <td>0</td>\n",
       "      <td>1</td>\n",
       "    </tr>\n",
       "    <tr>\n",
       "      <th>2</th>\n",
       "      <td>3</td>\n",
       "      <td>3</td>\n",
       "      <td>32</td>\n",
       "      <td>20180101</td>\n",
       "      <td>298</td>\n",
       "      <td>105992</td>\n",
       "      <td>1</td>\n",
       "      <td>183</td>\n",
       "      <td>25.653662</td>\n",
       "      <td>1010</td>\n",
       "      <td>...</td>\n",
       "      <td>0</td>\n",
       "      <td>0</td>\n",
       "      <td>0</td>\n",
       "      <td>0</td>\n",
       "      <td>0</td>\n",
       "      <td>0</td>\n",
       "      <td>0</td>\n",
       "      <td>0</td>\n",
       "      <td>0</td>\n",
       "      <td>1</td>\n",
       "    </tr>\n",
       "    <tr>\n",
       "      <th>3</th>\n",
       "      <td>4</td>\n",
       "      <td>4</td>\n",
       "      <td>32</td>\n",
       "      <td>20180101</td>\n",
       "      <td>297</td>\n",
       "      <td>105777</td>\n",
       "      <td>1</td>\n",
       "      <td>188</td>\n",
       "      <td>26.631075</td>\n",
       "      <td>5150</td>\n",
       "      <td>...</td>\n",
       "      <td>0</td>\n",
       "      <td>0</td>\n",
       "      <td>0</td>\n",
       "      <td>1</td>\n",
       "      <td>0</td>\n",
       "      <td>0</td>\n",
       "      <td>0</td>\n",
       "      <td>0</td>\n",
       "      <td>0</td>\n",
       "      <td>0</td>\n",
       "    </tr>\n",
       "    <tr>\n",
       "      <th>4</th>\n",
       "      <td>5</td>\n",
       "      <td>5</td>\n",
       "      <td>32</td>\n",
       "      <td>20180101</td>\n",
       "      <td>296</td>\n",
       "      <td>106401</td>\n",
       "      <td>1</td>\n",
       "      <td>193</td>\n",
       "      <td>22.683094</td>\n",
       "      <td>2010</td>\n",
       "      <td>...</td>\n",
       "      <td>0</td>\n",
       "      <td>0</td>\n",
       "      <td>0</td>\n",
       "      <td>1</td>\n",
       "      <td>0</td>\n",
       "      <td>0</td>\n",
       "      <td>0</td>\n",
       "      <td>0</td>\n",
       "      <td>0</td>\n",
       "      <td>0</td>\n",
       "    </tr>\n",
       "  </tbody>\n",
       "</table>\n",
       "<p>5 rows × 5796 columns</p>\n",
       "</div>"
      ],
      "text/plain": [
       "   Unnamed: 0  X  draw_size  tourney_date  match_num  winner_id  winner_hand  \\\n",
       "0           1  1         32      20180101        300     106401            1   \n",
       "1           2  2         32      20180101        299     106401            1   \n",
       "2           3  3         32      20180101        298     105992            1   \n",
       "3           4  4         32      20180101        297     105777            1   \n",
       "4           5  5         32      20180101        296     106401            1   \n",
       "\n",
       "   winner_ht  winner_age  winner_rank_points    ...     loser_ioc_ZIM  \\\n",
       "0        193   22.683094                2010    ...                 0   \n",
       "1        193   22.683094                2010    ...                 0   \n",
       "2        183   25.653662                1010    ...                 0   \n",
       "3        188   26.631075                5150    ...                 0   \n",
       "4        193   22.683094                2010    ...                 0   \n",
       "\n",
       "   round_BR  round_F  round_QF  round_R128  round_R16  round_R32  round_R64  \\\n",
       "0         0        1         0           0          0          0          0   \n",
       "1         0        0         0           0          0          0          0   \n",
       "2         0        0         0           0          0          0          0   \n",
       "3         0        0         1           0          0          0          0   \n",
       "4         0        0         1           0          0          0          0   \n",
       "\n",
       "   round_RR  round_SF  \n",
       "0         0         0  \n",
       "1         0         1  \n",
       "2         0         1  \n",
       "3         0         0  \n",
       "4         0         0  \n",
       "\n",
       "[5 rows x 5796 columns]"
      ]
     },
     "execution_count": 17,
     "metadata": {},
     "output_type": "execute_result"
    }
   ],
   "source": [
    "overwrite = {\"winner_hand\": {2: 1}}\n",
    "tennis_new.replace(overwrite, inplace = True)\n",
    "tennis_new.head()"
   ]
  },
  {
   "cell_type": "code",
   "execution_count": 26,
   "metadata": {},
   "outputs": [
    {
     "name": "stderr",
     "output_type": "stream",
     "text": [
      "C:\\Users\\adar1656\\AppData\\Local\\Continuum\\anaconda3\\lib\\site-packages\\scipy\\stats\\stats.py:1713: FutureWarning: Using a non-tuple sequence for multidimensional indexing is deprecated; use `arr[tuple(seq)]` instead of `arr[seq]`. In the future this will be interpreted as an array index, `arr[np.array(seq)]`, which will result either in an error or a different result.\n",
      "  return np.add.reduce(sorted[indexer] * weights, axis=axis) / sumval\n"
     ]
    },
    {
     "data": {
      "image/png": "[encoded data removed]",
      "text/plain": [
       "<Figure size 432x288 with 1 Axes>"
      ]
     },
     "metadata": {
      "needs_background": "light"
     },
     "output_type": "display_data"
    }
   ],
   "source": [
    "sns.violinplot(\"winner_hand\", \"w_ace\", data=tennis_new, palette=[\"green\", \"blue\"]);"
   ]
  },
  {
   "cell_type": "code",
   "execution_count": 28,
   "metadata": {},
   "outputs": [
    {
     "name": "stderr",
     "output_type": "stream",
     "text": [
      "C:\\Users\\adar1656\\AppData\\Local\\Continuum\\anaconda3\\lib\\site-packages\\scipy\\stats\\stats.py:1713: FutureWarning: Using a non-tuple sequence for multidimensional indexing is deprecated; use `arr[tuple(seq)]` instead of `arr[seq]`. In the future this will be interpreted as an array index, `arr[np.array(seq)]`, which will result either in an error or a different result.\n",
      "  return np.add.reduce(sorted[indexer] * weights, axis=axis) / sumval\n"
     ]
    },
    {
     "data": {
      "image/png": "[encoded data removed]",
      "text/plain": [
       "<Figure size 432x288 with 1 Axes>"
      ]
     },
     "metadata": {
      "needs_background": "light"
     },
     "output_type": "display_data"
    }
   ],
   "source": [
    "sns.violinplot(\"winner_hand\", \"winner_age\", data=tennis_new, palette=[\"red\", \"yellow\"]);"
   ]
  },
  {
   "cell_type": "code",
   "execution_count": 30,
   "metadata": {},
   "outputs": [
    {
     "name": "stderr",
     "output_type": "stream",
     "text": [
      "C:\\Users\\adar1656\\AppData\\Local\\Continuum\\anaconda3\\lib\\site-packages\\scipy\\stats\\stats.py:1713: FutureWarning: Using a non-tuple sequence for multidimensional indexing is deprecated; use `arr[tuple(seq)]` instead of `arr[seq]`. In the future this will be interpreted as an array index, `arr[np.array(seq)]`, which will result either in an error or a different result.\n",
      "  return np.add.reduce(sorted[indexer] * weights, axis=axis) / sumval\n"
     ]
    },
    {
     "data": {
      "image/png": "[encoded data removed]",
      "text/plain": [
       "<Figure size 432x288 with 1 Axes>"
      ]
     },
     "metadata": {
      "needs_background": "light"
     },
     "output_type": "display_data"
    }
   ],
   "source": [
    "sns.violinplot(\"winner_hand\", \"winner_ht\", data=tennis_new, palette=[\"blue\", \"orange\"]);"
   ]
  },
  {
   "cell_type": "code",
   "execution_count": 32,
   "metadata": {},
   "outputs": [
    {
     "name": "stderr",
     "output_type": "stream",
     "text": [
      "C:\\Users\\adar1656\\AppData\\Local\\Continuum\\anaconda3\\lib\\site-packages\\sklearn\\cross_validation.py:41: DeprecationWarning: This module was deprecated in version 0.18 in favor of the model_selection module into which all the refactored classes and functions are moved. Also note that the interface of the new CV iterators are different from that of this module. This module will be removed in 0.20.\n",
      "  \"This module will be removed in 0.20.\", DeprecationWarning)\n"
     ]
    }
   ],
   "source": [
    "import pandas as pd\n",
    "from sklearn.cross_validation import train_test_split\n",
    "y_tennis_new = pd.DataFrame([tennis_new.winner_hand]).T\n",
    "X_tennis_new = pd.DataFrame(tennis_new)\n",
    "X_tennis_new = tennis_new.drop(['winner_hand'], axis = 1)\n",
    "X_tennis_new\n",
    "X_train, X_test, y_train, y_test = train_test_split(X_tennis_new, y_tennis_new, random_state = 0, test_size = 0.25)\n"
   ]
  },
  {
   "cell_type": "markdown",
   "metadata": {},
   "source": [
    "## Logistic Regression"
   ]
  },
  {
   "cell_type": "code",
   "execution_count": 33,
   "metadata": {
    "scrolled": false
   },
   "outputs": [
    {
     "name": "stderr",
     "output_type": "stream",
     "text": [
      "C:\\Users\\adar1656\\AppData\\Local\\Continuum\\anaconda3\\lib\\site-packages\\sklearn\\utils\\validation.py:578: DataConversionWarning: A column-vector y was passed when a 1d array was expected. Please change the shape of y to (n_samples, ), for example using ravel().\n",
      "  y = column_or_1d(y, warn=True)\n"
     ]
    },
    {
     "name": "stdout",
     "output_type": "stream",
     "text": [
      "Training accuracy = 85.72\n",
      "Testing accuracy = 86.35\n"
     ]
    },
    {
     "data": {
      "text/plain": [
       "0.5"
      ]
     },
     "execution_count": 33,
     "metadata": {},
     "output_type": "execute_result"
    }
   ],
   "source": [
    "\n",
    "from sklearn.linear_model import LogisticRegression\n",
    "from sklearn.metrics import accuracy_score\n",
    "from sklearn.metrics import roc_curve\n",
    "from sklearn.metrics import roc_auc_score\n",
    "lr = LogisticRegression()\n",
    "lr.fit(X_train, y_train)\n",
    "y_prediction = lr.predict(X_test)\n",
    "lr_training = round(lr.score(X_train, y_train) * 100, 2)\n",
    "print ('Training accuracy = {}'.format(lr_training))\n",
    "lr_testing = round(accuracy_score(y_test, y_prediction) * 100, 2)\n",
    "print ('Testing accuracy = {}'.format(lr_testing))\n",
    "roc_auc_score(y_test, y_prediction)"
   ]
  },
  {
   "cell_type": "code",
   "execution_count": 21,
   "metadata": {},
   "outputs": [
    {
     "name": "stdout",
     "output_type": "stream",
     "text": [
      "1    84064\n",
      "0    13824\n",
      "Name: winner_hand, dtype: int64\n"
     ]
    }
   ],
   "source": [
    "print (tennis_new[\"winner_hand\"].value_counts())\n"
   ]
  },
  {
   "cell_type": "markdown",
   "metadata": {},
   "source": [
    "## K - Nearest Neighbour:"
   ]
  },
  {
   "cell_type": "code",
   "execution_count": 37,
   "metadata": {},
   "outputs": [
    {
     "name": "stderr",
     "output_type": "stream",
     "text": [
      "C:\\Users\\adar1656\\AppData\\Local\\Continuum\\anaconda3\\lib\\site-packages\\ipykernel_launcher.py:4: DataConversionWarning: A column-vector y was passed when a 1d array was expected. Please change the shape of y to (n_samples, ), for example using ravel().\n",
      "  after removing the cwd from sys.path.\n"
     ]
    },
    {
     "name": "stdout",
     "output_type": "stream",
     "text": [
      "Training accuracy = 87.87\n",
      "Testing accuracy = 86.58\n"
     ]
    },
    {
     "data": {
      "text/plain": [
       "0.5619264877400225"
      ]
     },
     "execution_count": 37,
     "metadata": {},
     "output_type": "execute_result"
    }
   ],
   "source": [
    "from sklearn.neighbors import KNeighborsClassifier\n",
    "\n",
    "knn = KNeighborsClassifier(n_neighbors = 7)\n",
    "knn.fit(X_train, y_train)\n",
    "y_prediction_knn = knn.predict(X_test)\n",
    "\n",
    "knn_training = round(knn.score(X_train, y_train) * 100, 2)\n",
    "print ('Training accuracy = {}'.format(knn_training))\n",
    "knn_testing = round(accuracy_score(y_test, y_prediction_knn) * 100, 2)\n",
    "print ('Testing accuracy = {}'.format(knn_testing))\n",
    "roc_auc_score(y_test, y_prediction_knn)\n",
    "\n",
    "\n",
    "\n"
   ]
  },
  {
   "cell_type": "markdown",
   "metadata": {},
   "source": [
    "## Decision Tree:"
   ]
  },
  {
   "cell_type": "code",
   "execution_count": 34,
   "metadata": {},
   "outputs": [
    {
     "name": "stdout",
     "output_type": "stream",
     "text": [
      "Training accuracy = 100.0\n",
      "Testing accuracy = 99.96\n"
     ]
    },
    {
     "data": {
      "text/plain": [
       "0.9989047742108061"
      ]
     },
     "execution_count": 34,
     "metadata": {},
     "output_type": "execute_result"
    }
   ],
   "source": [
    "from sklearn.tree import DecisionTreeClassifier\n",
    "dt = DecisionTreeClassifier()\n",
    "dt.fit(X_train, y_train)\n",
    "y_dr_prediction = dt.predict(X_test)\n",
    "dt_accuracy_training = round(dt.score(X_train, y_train) * 100, 2)\n",
    "print ('Training accuracy = {}'.format(dt_accuracy_training))\n",
    "dt_accuracy_testing = round(accuracy_score(y_test, y_dr_prediction) * 100, 2)\n",
    "print ('Testing accuracy = {}'.format(dt_accuracy_testing))\n",
    "roc_auc_score(y_test, y_dr_prediction)\n"
   ]
  },
  {
   "cell_type": "markdown",
   "metadata": {},
   "source": [
    "## Naive Bayes:"
   ]
  },
  {
   "cell_type": "code",
   "execution_count": 35,
   "metadata": {},
   "outputs": [
    {
     "name": "stderr",
     "output_type": "stream",
     "text": [
      "C:\\Users\\adar1656\\AppData\\Local\\Continuum\\anaconda3\\lib\\site-packages\\sklearn\\utils\\validation.py:578: DataConversionWarning: A column-vector y was passed when a 1d array was expected. Please change the shape of y to (n_samples, ), for example using ravel().\n",
      "  y = column_or_1d(y, warn=True)\n"
     ]
    },
    {
     "name": "stdout",
     "output_type": "stream",
     "text": [
      "Training accuracy = 84.1\n",
      "Testing accuracy = 84.77\n"
     ]
    },
    {
     "data": {
      "text/plain": [
       "0.5101273602709402"
      ]
     },
     "execution_count": 35,
     "metadata": {},
     "output_type": "execute_result"
    }
   ],
   "source": [
    "from sklearn.naive_bayes import GaussianNB\n",
    "nb = GaussianNB()\n",
    "nb.fit(X_train, y_train)\n",
    "y_nb = nb.predict(X_test)\n",
    "nb_accuracy_training = round(nb.score(X_train, y_train) * 100, 2)\n",
    "print ('Training accuracy = {}'.format(nb_accuracy_training))\n",
    "nb_accuracy_testing = round(accuracy_score(y_test, y_nb) * 100, 2)\n",
    "print ('Testing accuracy = {}'.format(nb_accuracy_testing))\n",
    "roc_auc_score(y_test, y_nb)"
   ]
  },
  {
   "cell_type": "markdown",
   "metadata": {},
   "source": [
    "## Random Forest:"
   ]
  },
  {
   "cell_type": "code",
   "execution_count": 36,
   "metadata": {},
   "outputs": [
    {
     "name": "stderr",
     "output_type": "stream",
     "text": [
      "C:\\Users\\adar1656\\AppData\\Local\\Continuum\\anaconda3\\lib\\site-packages\\ipykernel_launcher.py:3: DataConversionWarning: A column-vector y was passed when a 1d array was expected. Please change the shape of y to (n_samples,), for example using ravel().\n",
      "  This is separate from the ipykernel package so we can avoid doing imports until\n"
     ]
    },
    {
     "name": "stdout",
     "output_type": "stream",
     "text": [
      "Training accuracy = 100.0\n",
      "Testing accuracy = 99.29\n"
     ]
    },
    {
     "data": {
      "text/plain": [
       "0.9741017964071856"
      ]
     },
     "execution_count": 36,
     "metadata": {},
     "output_type": "execute_result"
    }
   ],
   "source": [
    "from sklearn.ensemble import RandomForestClassifier\n",
    "rf = RandomForestClassifier(n_estimators = 100, random_state = 0)\n",
    "rf.fit(X_train, y_train)\n",
    "y_rf_prediction = rf.predict(X_test)\n",
    "rf_accuracy_training = round(rf.score(X_train, y_train) * 100, 2)\n",
    "print ('Training accuracy = {}'.format(rf_accuracy_training))\n",
    "rf_accuracy_testing = round(accuracy_score(y_test, y_rf_prediction) * 100, 2)\n",
    "print ('Testing accuracy = {}'.format(rf_accuracy_testing))\n",
    "roc_auc_score(y_test, y_rf_prediction)"
   ]
  },
  {
   "cell_type": "code",
   "execution_count": 40,
   "metadata": {},
   "outputs": [],
   "source": [
    "result = pd.DataFrame({'Types of Models':['Logical Regression', 'K Nearest Neighbour', 'Decision Tree', \n",
    "                                 'Naive Bayes',' Random Forest'],\n",
    "             'Training percentage' : [lr_training, knn_training, dt_accuracy_training, nb_accuracy_training,  \n",
    "                                      rf_accuracy_training],\n",
    "             'Testing percentage' : [lr_testing, knn_testing, dt_accuracy_testing, nb_accuracy_testing,\n",
    "                                      rf_accuracy_testing ],\n",
    "             'Roc value' : [0.5, 0.56, 0.99, 0.51, 0.97 ]})"
   ]
  },
  {
   "cell_type": "code",
   "execution_count": 41,
   "metadata": {},
   "outputs": [
    {
     "data": {
      "text/html": [
       "<div>\n",
       "<style scoped>\n",
       "    .dataframe tbody tr th:only-of-type {\n",
       "        vertical-align: middle;\n",
       "    }\n",
       "\n",
       "    .dataframe tbody tr th {\n",
       "        vertical-align: top;\n",
       "    }\n",
       "\n",
       "    .dataframe thead th {\n",
       "        text-align: right;\n",
       "    }\n",
       "</style>\n",
       "<table border=\"1\" class=\"dataframe\">\n",
       "  <thead>\n",
       "    <tr style=\"text-align: right;\">\n",
       "      <th></th>\n",
       "      <th>Types of Models</th>\n",
       "      <th>Training percentage</th>\n",
       "      <th>Testing percentage</th>\n",
       "      <th>Roc value</th>\n",
       "    </tr>\n",
       "  </thead>\n",
       "  <tbody>\n",
       "    <tr>\n",
       "      <th>0</th>\n",
       "      <td>Logical Regression</td>\n",
       "      <td>85.72</td>\n",
       "      <td>86.35</td>\n",
       "      <td>0.50</td>\n",
       "    </tr>\n",
       "    <tr>\n",
       "      <th>1</th>\n",
       "      <td>K Nearest Neighbour</td>\n",
       "      <td>87.87</td>\n",
       "      <td>86.58</td>\n",
       "      <td>0.56</td>\n",
       "    </tr>\n",
       "    <tr>\n",
       "      <th>2</th>\n",
       "      <td>Decision Tree</td>\n",
       "      <td>100.00</td>\n",
       "      <td>99.96</td>\n",
       "      <td>0.99</td>\n",
       "    </tr>\n",
       "    <tr>\n",
       "      <th>3</th>\n",
       "      <td>Naive Bayes</td>\n",
       "      <td>84.10</td>\n",
       "      <td>84.77</td>\n",
       "      <td>0.51</td>\n",
       "    </tr>\n",
       "    <tr>\n",
       "      <th>4</th>\n",
       "      <td>Random Forest</td>\n",
       "      <td>100.00</td>\n",
       "      <td>99.29</td>\n",
       "      <td>0.97</td>\n",
       "    </tr>\n",
       "  </tbody>\n",
       "</table>\n",
       "</div>"
      ],
      "text/plain": [
       "       Types of Models  Training percentage  Testing percentage  Roc value\n",
       "0   Logical Regression                85.72               86.35       0.50\n",
       "1  K Nearest Neighbour                87.87               86.58       0.56\n",
       "2        Decision Tree               100.00               99.96       0.99\n",
       "3          Naive Bayes                84.10               84.77       0.51\n",
       "4        Random Forest               100.00               99.29       0.97"
      ]
     },
     "execution_count": 41,
     "metadata": {},
     "output_type": "execute_result"
    }
   ],
   "source": [
    "result"
   ]
  },
  {
   "cell_type": "code",
   "execution_count": 42,
   "metadata": {},
   "outputs": [
    {
     "data": {
      "text/plain": [
       "Text(0,0.5,'Accuracy')"
      ]
     },
     "execution_count": 42,
     "metadata": {},
     "output_type": "execute_result"
    },
    {
     "data": {
      "image/png": "[encoded data removed]",
      "text/plain": [
       "<Figure size 720x432 with 1 Axes>"
      ]
     },
     "metadata": {
      "needs_background": "light"
     },
     "output_type": "display_data"
    }
   ],
   "source": [
    "result.plot(kind = 'bar', x = 'Types of Models', figsize = (10, 6))\n",
    "plt.xticks(rotation = 'horizontal')\n",
    "plt.ylabel('Accuracy')"
   ]
  },
  {
   "cell_type": "code",
   "execution_count": null,
   "metadata": {},
   "outputs": [],
   "source": []
  }
 ],
 "metadata": {
  "kernelspec": {
   "display_name": "Python 3",
   "language": "python",
   "name": "python3"
  },
  "language_info": {
   "codemirror_mode": {
    "name": "ipython",
    "version": 3
   },
   "file_extension": ".py",
   "mimetype": "text/x-python",
   "name": "python",
   "nbconvert_exporter": "python",
   "pygments_lexer": "ipython3",
   "version": "3.7.0"
  }
 },
 "nbformat": 4,
 "nbformat_minor": 2
}
