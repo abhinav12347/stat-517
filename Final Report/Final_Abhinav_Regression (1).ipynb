{
 "cells": [
  {
   "cell_type": "code",
   "execution_count": 1,
   "metadata": {},
   "outputs": [
    {
     "data": {
      "text/html": [
       "<div>\n",
       "<style scoped>\n",
       "    .dataframe tbody tr th:only-of-type {\n",
       "        vertical-align: middle;\n",
       "    }\n",
       "\n",
       "    .dataframe tbody tr th {\n",
       "        vertical-align: top;\n",
       "    }\n",
       "\n",
       "    .dataframe thead th {\n",
       "        text-align: right;\n",
       "    }\n",
       "</style>\n",
       "<table border=\"1\" class=\"dataframe\">\n",
       "  <thead>\n",
       "    <tr style=\"text-align: right;\">\n",
       "      <th></th>\n",
       "      <th>Unnamed: 0</th>\n",
       "      <th>X</th>\n",
       "      <th>draw_size</th>\n",
       "      <th>tourney_level</th>\n",
       "      <th>tourney_date</th>\n",
       "      <th>match_num</th>\n",
       "      <th>winner_id</th>\n",
       "      <th>winner_name</th>\n",
       "      <th>winner_hand</th>\n",
       "      <th>winner_ht</th>\n",
       "      <th>...</th>\n",
       "      <th>w_bpFaced</th>\n",
       "      <th>l_ace</th>\n",
       "      <th>l_df</th>\n",
       "      <th>l_svpt</th>\n",
       "      <th>l_1stIn</th>\n",
       "      <th>l_1stWon</th>\n",
       "      <th>l_2ndWon</th>\n",
       "      <th>l_SvGms</th>\n",
       "      <th>l_bpSaved</th>\n",
       "      <th>l_bpFaced</th>\n",
       "    </tr>\n",
       "  </thead>\n",
       "  <tbody>\n",
       "    <tr>\n",
       "      <th>0</th>\n",
       "      <td>1</td>\n",
       "      <td>1</td>\n",
       "      <td>32</td>\n",
       "      <td>A</td>\n",
       "      <td>20180101</td>\n",
       "      <td>300</td>\n",
       "      <td>106401</td>\n",
       "      <td>Nick Kyrgios</td>\n",
       "      <td>1</td>\n",
       "      <td>193</td>\n",
       "      <td>...</td>\n",
       "      <td>5</td>\n",
       "      <td>8</td>\n",
       "      <td>3</td>\n",
       "      <td>58</td>\n",
       "      <td>32</td>\n",
       "      <td>22</td>\n",
       "      <td>12</td>\n",
       "      <td>9</td>\n",
       "      <td>4</td>\n",
       "      <td>7</td>\n",
       "    </tr>\n",
       "    <tr>\n",
       "      <th>1</th>\n",
       "      <td>2</td>\n",
       "      <td>2</td>\n",
       "      <td>32</td>\n",
       "      <td>A</td>\n",
       "      <td>20180101</td>\n",
       "      <td>299</td>\n",
       "      <td>106401</td>\n",
       "      <td>Nick Kyrgios</td>\n",
       "      <td>1</td>\n",
       "      <td>193</td>\n",
       "      <td>...</td>\n",
       "      <td>2</td>\n",
       "      <td>5</td>\n",
       "      <td>6</td>\n",
       "      <td>74</td>\n",
       "      <td>44</td>\n",
       "      <td>32</td>\n",
       "      <td>16</td>\n",
       "      <td>13</td>\n",
       "      <td>3</td>\n",
       "      <td>6</td>\n",
       "    </tr>\n",
       "    <tr>\n",
       "      <th>2</th>\n",
       "      <td>3</td>\n",
       "      <td>3</td>\n",
       "      <td>32</td>\n",
       "      <td>A</td>\n",
       "      <td>20180101</td>\n",
       "      <td>298</td>\n",
       "      <td>105992</td>\n",
       "      <td>Ryan Harrison</td>\n",
       "      <td>1</td>\n",
       "      <td>183</td>\n",
       "      <td>...</td>\n",
       "      <td>6</td>\n",
       "      <td>9</td>\n",
       "      <td>5</td>\n",
       "      <td>94</td>\n",
       "      <td>62</td>\n",
       "      <td>49</td>\n",
       "      <td>16</td>\n",
       "      <td>16</td>\n",
       "      <td>0</td>\n",
       "      <td>3</td>\n",
       "    </tr>\n",
       "    <tr>\n",
       "      <th>3</th>\n",
       "      <td>4</td>\n",
       "      <td>4</td>\n",
       "      <td>32</td>\n",
       "      <td>A</td>\n",
       "      <td>20180101</td>\n",
       "      <td>297</td>\n",
       "      <td>105777</td>\n",
       "      <td>Grigor Dimitrov</td>\n",
       "      <td>1</td>\n",
       "      <td>188</td>\n",
       "      <td>...</td>\n",
       "      <td>2</td>\n",
       "      <td>6</td>\n",
       "      <td>1</td>\n",
       "      <td>89</td>\n",
       "      <td>53</td>\n",
       "      <td>39</td>\n",
       "      <td>23</td>\n",
       "      <td>15</td>\n",
       "      <td>4</td>\n",
       "      <td>6</td>\n",
       "    </tr>\n",
       "    <tr>\n",
       "      <th>4</th>\n",
       "      <td>5</td>\n",
       "      <td>5</td>\n",
       "      <td>32</td>\n",
       "      <td>A</td>\n",
       "      <td>20180101</td>\n",
       "      <td>296</td>\n",
       "      <td>106401</td>\n",
       "      <td>Nick Kyrgios</td>\n",
       "      <td>1</td>\n",
       "      <td>193</td>\n",
       "      <td>...</td>\n",
       "      <td>3</td>\n",
       "      <td>6</td>\n",
       "      <td>3</td>\n",
       "      <td>75</td>\n",
       "      <td>41</td>\n",
       "      <td>33</td>\n",
       "      <td>16</td>\n",
       "      <td>13</td>\n",
       "      <td>2</td>\n",
       "      <td>4</td>\n",
       "    </tr>\n",
       "  </tbody>\n",
       "</table>\n",
       "<p>5 rows × 41 columns</p>\n",
       "</div>"
      ],
      "text/plain": [
       "   Unnamed: 0  X  draw_size tourney_level  tourney_date  match_num  winner_id  \\\n",
       "0           1  1         32             A      20180101        300     106401   \n",
       "1           2  2         32             A      20180101        299     106401   \n",
       "2           3  3         32             A      20180101        298     105992   \n",
       "3           4  4         32             A      20180101        297     105777   \n",
       "4           5  5         32             A      20180101        296     106401   \n",
       "\n",
       "       winner_name  winner_hand  winner_ht    ...     w_bpFaced  l_ace  l_df  \\\n",
       "0     Nick Kyrgios            1        193    ...             5      8     3   \n",
       "1     Nick Kyrgios            1        193    ...             2      5     6   \n",
       "2    Ryan Harrison            1        183    ...             6      9     5   \n",
       "3  Grigor Dimitrov            1        188    ...             2      6     1   \n",
       "4     Nick Kyrgios            1        193    ...             3      6     3   \n",
       "\n",
       "   l_svpt l_1stIn l_1stWon  l_2ndWon l_SvGms  l_bpSaved  l_bpFaced  \n",
       "0      58      32       22        12       9          4          7  \n",
       "1      74      44       32        16      13          3          6  \n",
       "2      94      62       49        16      16          0          3  \n",
       "3      89      53       39        23      15          4          6  \n",
       "4      75      41       33        16      13          2          4  \n",
       "\n",
       "[5 rows x 41 columns]"
      ]
     },
     "execution_count": 1,
     "metadata": {},
     "output_type": "execute_result"
    }
   ],
   "source": [
    "import pandas as pd\n",
    "tennis = pd.read_csv(\"https://raw.githubusercontent.com/abhinav12347/stat-517/master/Stats_Final_Project_517_Updated_Abhinav.csv\")\n",
    "tennis.head()"
   ]
  },
  {
   "cell_type": "code",
   "execution_count": 2,
   "metadata": {},
   "outputs": [
    {
     "name": "stderr",
     "output_type": "stream",
     "text": [
      "C:\\Users\\adar1656\\AppData\\Local\\Continuum\\anaconda3\\lib\\site-packages\\sklearn\\ensemble\\weight_boosting.py:29: DeprecationWarning: numpy.core.umath_tests is an internal NumPy module and should not be imported. It will be removed in a future NumPy release.\n",
      "  from numpy.core.umath_tests import inner1d\n"
     ]
    }
   ],
   "source": [
    "\n",
    "import numpy as np\n",
    "import pandas as pd\n",
    "import random as rnd\n",
    "import seaborn as sns\n",
    "import matplotlib.pyplot as plt\n",
    "%matplotlib inline\n",
    "from sklearn import datasets, linear_model\n",
    "from sklearn.linear_model import LinearRegression\n",
    "from sklearn.linear_model import LogisticRegression\n",
    "from sklearn.svm import SVC, LinearSVC\n",
    "from sklearn.ensemble import RandomForestRegressor\n",
    "from sklearn.neighbors import KNeighborsClassifier\n",
    "from sklearn.linear_model import Perceptron\n",
    "from sklearn.linear_model import SGDClassifier\n",
    "from sklearn.tree import DecisionTreeClassifier\n",
    "from sklearn.metrics import accuracy_score\n",
    "from sklearn.metrics import mean_squared_error, r2_score"
   ]
  },
  {
   "cell_type": "code",
   "execution_count": 3,
   "metadata": {},
   "outputs": [
    {
     "name": "stdout",
     "output_type": "stream",
     "text": [
      "['Unnamed: 0' 'X' 'draw_size' 'tourney_level' 'tourney_date' 'match_num'\n",
      " 'winner_id' 'winner_name' 'winner_hand' 'winner_ht' 'winner_ioc'\n",
      " 'winner_age' 'winner_rank_points' 'loser_id' 'loser_name' 'loser_hand'\n",
      " 'loser_ht' 'loser_ioc' 'loser_age' 'loser_rank_points' 'best_of' 'round'\n",
      " 'minutes' 'w_ace' 'w_df' 'w_svpt' 'w_1stIn' 'w_1stWon' 'w_2ndWon'\n",
      " 'w_SvGms' 'w_bpSaved' 'w_bpFaced' 'l_ace' 'l_df' 'l_svpt' 'l_1stIn'\n",
      " 'l_1stWon' 'l_2ndWon' 'l_SvGms' 'l_bpSaved' 'l_bpFaced']\n",
      "       tourney_level    winner_name winner_ioc       loser_name loser_hand  \\\n",
      "count          97888          97888      97888            97888      97857   \n",
      "unique             6           2223        121             3271          3   \n",
      "top                A  Roger Federer        USA  Fabrice Santoro          R   \n",
      "freq           57264           1179      12034              444      80995   \n",
      "\n",
      "       loser_ioc  round  \n",
      "count      97888  97888  \n",
      "unique       129      9  \n",
      "top          USA    R32  \n",
      "freq       10856  32312  \n"
     ]
    }
   ],
   "source": [
    "\n",
    "print (tennis.columns.values)\n",
    "print (tennis.describe(include=['O']))"
   ]
  },
  {
   "cell_type": "code",
   "execution_count": 4,
   "metadata": {},
   "outputs": [
    {
     "name": "stdout",
     "output_type": "stream",
     "text": [
      "(97888, 5796)\n"
     ]
    },
    {
     "data": {
      "text/html": [
       "<div>\n",
       "<style scoped>\n",
       "    .dataframe tbody tr th:only-of-type {\n",
       "        vertical-align: middle;\n",
       "    }\n",
       "\n",
       "    .dataframe tbody tr th {\n",
       "        vertical-align: top;\n",
       "    }\n",
       "\n",
       "    .dataframe thead th {\n",
       "        text-align: right;\n",
       "    }\n",
       "</style>\n",
       "<table border=\"1\" class=\"dataframe\">\n",
       "  <thead>\n",
       "    <tr style=\"text-align: right;\">\n",
       "      <th></th>\n",
       "      <th>Unnamed: 0</th>\n",
       "      <th>X</th>\n",
       "      <th>draw_size</th>\n",
       "      <th>tourney_date</th>\n",
       "      <th>match_num</th>\n",
       "      <th>winner_id</th>\n",
       "      <th>winner_hand</th>\n",
       "      <th>winner_ht</th>\n",
       "      <th>winner_age</th>\n",
       "      <th>winner_rank_points</th>\n",
       "      <th>...</th>\n",
       "      <th>loser_ioc_ZIM</th>\n",
       "      <th>round_BR</th>\n",
       "      <th>round_F</th>\n",
       "      <th>round_QF</th>\n",
       "      <th>round_R128</th>\n",
       "      <th>round_R16</th>\n",
       "      <th>round_R32</th>\n",
       "      <th>round_R64</th>\n",
       "      <th>round_RR</th>\n",
       "      <th>round_SF</th>\n",
       "    </tr>\n",
       "  </thead>\n",
       "  <tbody>\n",
       "    <tr>\n",
       "      <th>0</th>\n",
       "      <td>1</td>\n",
       "      <td>1</td>\n",
       "      <td>32</td>\n",
       "      <td>20180101</td>\n",
       "      <td>300</td>\n",
       "      <td>106401</td>\n",
       "      <td>1</td>\n",
       "      <td>193</td>\n",
       "      <td>22.683094</td>\n",
       "      <td>2010</td>\n",
       "      <td>...</td>\n",
       "      <td>0</td>\n",
       "      <td>0</td>\n",
       "      <td>1</td>\n",
       "      <td>0</td>\n",
       "      <td>0</td>\n",
       "      <td>0</td>\n",
       "      <td>0</td>\n",
       "      <td>0</td>\n",
       "      <td>0</td>\n",
       "      <td>0</td>\n",
       "    </tr>\n",
       "    <tr>\n",
       "      <th>1</th>\n",
       "      <td>2</td>\n",
       "      <td>2</td>\n",
       "      <td>32</td>\n",
       "      <td>20180101</td>\n",
       "      <td>299</td>\n",
       "      <td>106401</td>\n",
       "      <td>1</td>\n",
       "      <td>193</td>\n",
       "      <td>22.683094</td>\n",
       "      <td>2010</td>\n",
       "      <td>...</td>\n",
       "      <td>0</td>\n",
       "      <td>0</td>\n",
       "      <td>0</td>\n",
       "      <td>0</td>\n",
       "      <td>0</td>\n",
       "      <td>0</td>\n",
       "      <td>0</td>\n",
       "      <td>0</td>\n",
       "      <td>0</td>\n",
       "      <td>1</td>\n",
       "    </tr>\n",
       "    <tr>\n",
       "      <th>2</th>\n",
       "      <td>3</td>\n",
       "      <td>3</td>\n",
       "      <td>32</td>\n",
       "      <td>20180101</td>\n",
       "      <td>298</td>\n",
       "      <td>105992</td>\n",
       "      <td>1</td>\n",
       "      <td>183</td>\n",
       "      <td>25.653662</td>\n",
       "      <td>1010</td>\n",
       "      <td>...</td>\n",
       "      <td>0</td>\n",
       "      <td>0</td>\n",
       "      <td>0</td>\n",
       "      <td>0</td>\n",
       "      <td>0</td>\n",
       "      <td>0</td>\n",
       "      <td>0</td>\n",
       "      <td>0</td>\n",
       "      <td>0</td>\n",
       "      <td>1</td>\n",
       "    </tr>\n",
       "    <tr>\n",
       "      <th>3</th>\n",
       "      <td>4</td>\n",
       "      <td>4</td>\n",
       "      <td>32</td>\n",
       "      <td>20180101</td>\n",
       "      <td>297</td>\n",
       "      <td>105777</td>\n",
       "      <td>1</td>\n",
       "      <td>188</td>\n",
       "      <td>26.631075</td>\n",
       "      <td>5150</td>\n",
       "      <td>...</td>\n",
       "      <td>0</td>\n",
       "      <td>0</td>\n",
       "      <td>0</td>\n",
       "      <td>1</td>\n",
       "      <td>0</td>\n",
       "      <td>0</td>\n",
       "      <td>0</td>\n",
       "      <td>0</td>\n",
       "      <td>0</td>\n",
       "      <td>0</td>\n",
       "    </tr>\n",
       "    <tr>\n",
       "      <th>4</th>\n",
       "      <td>5</td>\n",
       "      <td>5</td>\n",
       "      <td>32</td>\n",
       "      <td>20180101</td>\n",
       "      <td>296</td>\n",
       "      <td>106401</td>\n",
       "      <td>1</td>\n",
       "      <td>193</td>\n",
       "      <td>22.683094</td>\n",
       "      <td>2010</td>\n",
       "      <td>...</td>\n",
       "      <td>0</td>\n",
       "      <td>0</td>\n",
       "      <td>0</td>\n",
       "      <td>1</td>\n",
       "      <td>0</td>\n",
       "      <td>0</td>\n",
       "      <td>0</td>\n",
       "      <td>0</td>\n",
       "      <td>0</td>\n",
       "      <td>0</td>\n",
       "    </tr>\n",
       "  </tbody>\n",
       "</table>\n",
       "<p>5 rows × 5796 columns</p>\n",
       "</div>"
      ],
      "text/plain": [
       "   Unnamed: 0  X  draw_size  tourney_date  match_num  winner_id  winner_hand  \\\n",
       "0           1  1         32      20180101        300     106401            1   \n",
       "1           2  2         32      20180101        299     106401            1   \n",
       "2           3  3         32      20180101        298     105992            1   \n",
       "3           4  4         32      20180101        297     105777            1   \n",
       "4           5  5         32      20180101        296     106401            1   \n",
       "\n",
       "   winner_ht  winner_age  winner_rank_points    ...     loser_ioc_ZIM  \\\n",
       "0        193   22.683094                2010    ...                 0   \n",
       "1        193   22.683094                2010    ...                 0   \n",
       "2        183   25.653662                1010    ...                 0   \n",
       "3        188   26.631075                5150    ...                 0   \n",
       "4        193   22.683094                2010    ...                 0   \n",
       "\n",
       "   round_BR  round_F  round_QF  round_R128  round_R16  round_R32  round_R64  \\\n",
       "0         0        1         0           0          0          0          0   \n",
       "1         0        0         0           0          0          0          0   \n",
       "2         0        0         0           0          0          0          0   \n",
       "3         0        0         1           0          0          0          0   \n",
       "4         0        0         1           0          0          0          0   \n",
       "\n",
       "   round_RR  round_SF  \n",
       "0         0         0  \n",
       "1         0         1  \n",
       "2         0         1  \n",
       "3         0         0  \n",
       "4         0         0  \n",
       "\n",
       "[5 rows x 5796 columns]"
      ]
     },
     "execution_count": 4,
     "metadata": {},
     "output_type": "execute_result"
    }
   ],
   "source": [
    "tennis_new = pd.get_dummies(tennis, columns=[\"tourney_level\", \"winner_name\", \"winner_ioc\", \"loser_name\", \"loser_hand\", \"loser_ioc\", \"round\"])\n",
    "print (tennis_new.shape)\n",
    "tennis_new.head()"
   ]
  },
  {
   "cell_type": "code",
   "execution_count": 5,
   "metadata": {},
   "outputs": [
    {
     "name": "stderr",
     "output_type": "stream",
     "text": [
      "C:\\Users\\adar1656\\AppData\\Local\\Continuum\\anaconda3\\lib\\site-packages\\sklearn\\cross_validation.py:41: DeprecationWarning: This module was deprecated in version 0.18 in favor of the model_selection module into which all the refactored classes and functions are moved. Also note that the interface of the new CV iterators are different from that of this module. This module will be removed in 0.20.\n",
      "  \"This module will be removed in 0.20.\", DeprecationWarning)\n"
     ]
    }
   ],
   "source": [
    "import pandas as pd\n",
    "from sklearn.cross_validation import train_test_split\n",
    "y_tennis_new = pd.DataFrame([tennis_new.w_ace]).T\n",
    "X_tennis_new = pd.DataFrame(tennis_new)\n",
    "X_tennis_new = tennis_new.drop(['w_ace'], axis = 1)\n",
    "X_tennis_new\n",
    "X_train, X_test, y_train, y_test = train_test_split(X_tennis_new, y_tennis_new, random_state = 0, test_size = 0.25)"
   ]
  },
  {
   "cell_type": "markdown",
   "metadata": {},
   "source": [
    "## Linear Regression"
   ]
  },
  {
   "cell_type": "code",
   "execution_count": 6,
   "metadata": {},
   "outputs": [
    {
     "name": "stdout",
     "output_type": "stream",
     "text": [
      "Training set score: 66.39\n",
      "Test set score: 61.61\n"
     ]
    }
   ],
   "source": [
    "from scipy import stats\n",
    "lr = linear_model.LinearRegression()\n",
    "model = lr.fit(X_train,y_train)\n",
    "prediction = lr.predict(X_test)\n",
    "acc_lr = lr.score(X_train, y_train) * 100\n",
    "acc_lr1 = lr.score(X_test, y_test) * 100\n",
    "print(\"Training set score: {:.2f}\".format(lr.score(X_train, y_train) * 100, 2))\n",
    "print(\"Test set score: {:.2f}\".format(lr.score(X_test, y_test) * 100, 2))\n",
    "\n",
    "\n"
   ]
  },
  {
   "cell_type": "markdown",
   "metadata": {},
   "source": [
    "## Lasso"
   ]
  },
  {
   "cell_type": "code",
   "execution_count": 12,
   "metadata": {},
   "outputs": [
    {
     "name": "stderr",
     "output_type": "stream",
     "text": [
      "C:\\Users\\adar1656\\AppData\\Local\\Continuum\\anaconda3\\lib\\site-packages\\sklearn\\linear_model\\coordinate_descent.py:491: ConvergenceWarning: Objective did not converge. You might want to increase the number of iterations. Fitting data with very small alpha may cause precision problems.\n",
      "  ConvergenceWarning)\n"
     ]
    },
    {
     "name": "stdout",
     "output_type": "stream",
     "text": [
      "Training set score: 48.35\n",
      "Test set score: 48.25\n",
      "0.6613847124187979 0.6412766812179531\n"
     ]
    }
   ],
   "source": [
    "from sklearn.linear_model import Lasso\n",
    "lasso = Lasso().fit(X_train, y_train)\n",
    "acc_las = lasso.score(X_train, y_train) * 100\n",
    "acc_las1 = lasso.score(X_test, y_test) * 100\n",
    "print(\"Training set score: {:.2f}\".format(lasso.score(X_train, y_train) * 100, 2))\n",
    "print(\"Test set score: {:.2f}\".format(lasso.score(X_test, y_test) * 100, 2))\n",
    "\n",
    "import statsmodels.api as sm\n",
    "X1 = sm.add_constant(X_tennis_new)\n",
    "result = sm.OLS(y_tennis_new,X1).fit()\n",
    "print(result.rsquared, result.rsquared_adj)"
   ]
  },
  {
   "cell_type": "markdown",
   "metadata": {},
   "source": [
    "## Ridge"
   ]
  },
  {
   "cell_type": "code",
   "execution_count": 12,
   "metadata": {},
   "outputs": [
    {
     "name": "stdout",
     "output_type": "stream",
     "text": [
      "Training set score: 66.22\n",
      "Test set score: 63.99\n"
     ]
    }
   ],
   "source": [
    "from sklearn.linear_model import Ridge\n",
    "ridge = Ridge().fit(X_train, y_train)\n",
    "acc_ri = ridge.score(X_train, y_train) * 100\n",
    "acc_ri1 = ridge.score(X_test, y_test) * 100\n",
    "print(\"Training set score: {:.2f}\".format(ridge.score(X_train, y_train) * 100, 2))\n",
    "print(\"Test set score: {:.2f}\".format(ridge.score(X_test, y_test) * 100, 2))"
   ]
  },
  {
   "cell_type": "markdown",
   "metadata": {},
   "source": [
    "## Decision Tree"
   ]
  },
  {
   "cell_type": "code",
   "execution_count": 16,
   "metadata": {},
   "outputs": [
    {
     "name": "stdout",
     "output_type": "stream",
     "text": [
      "Training set score: 100.0\n",
      "Test set score: 17.9\n"
     ]
    }
   ],
   "source": [
    "from sklearn.tree import DecisionTreeRegressor\n",
    "dt = DecisionTreeRegressor()\n",
    "dt.fit(X_train, y_train)\n",
    "y_pred = dt.predict(X_test)\n",
    "acc_dt = round(dt.score(X_train, y_train) * 100, 2)\n",
    "print ('Training set score: {}'.format(acc_dt))\n",
    "acc_dt1 = round(dt.score(X_test, y_test) * 100, 2)\n",
    "print ('Test set score: {}'.format(acc_dt1))"
   ]
  },
  {
   "cell_type": "markdown",
   "metadata": {},
   "source": [
    "## Random Forest"
   ]
  },
  {
   "cell_type": "code",
   "execution_count": 19,
   "metadata": {},
   "outputs": [
    {
     "name": "stderr",
     "output_type": "stream",
     "text": [
      "C:\\Users\\adar1656\\AppData\\Local\\Continuum\\anaconda3\\lib\\site-packages\\ipykernel_launcher.py:1: DataConversionWarning: A column-vector y was passed when a 1d array was expected. Please change the shape of y to (n_samples,), for example using ravel().\n",
      "  \"\"\"Entry point for launching an IPython kernel.\n"
     ]
    },
    {
     "name": "stdout",
     "output_type": "stream",
     "text": [
      "Training set score: 91.62\n",
      "Test set score: 54.49\n"
     ]
    }
   ],
   "source": [
    "rf = RandomForestRegressor().fit(X_train,y_train)\n",
    "acc_rfr = rf.score(X_train,y_train)*100\n",
    "acc_rfr1 = rf.score(X_test, y_test)\n",
    "print(\"Training set score: {:.2f}\".format(rf.score(X_train,y_train)*100,2))\n",
    "print(\"Test set score: {:.2f}\".format(rf.score(X_test,y_test)*100,2))\n"
   ]
  },
  {
   "cell_type": "code",
   "execution_count": 20,
   "metadata": {},
   "outputs": [
    {
     "data": {
      "text/html": [
       "<div>\n",
       "<style scoped>\n",
       "    .dataframe tbody tr th:only-of-type {\n",
       "        vertical-align: middle;\n",
       "    }\n",
       "\n",
       "    .dataframe tbody tr th {\n",
       "        vertical-align: top;\n",
       "    }\n",
       "\n",
       "    .dataframe thead th {\n",
       "        text-align: right;\n",
       "    }\n",
       "</style>\n",
       "<table border=\"1\" class=\"dataframe\">\n",
       "  <thead>\n",
       "    <tr style=\"text-align: right;\">\n",
       "      <th></th>\n",
       "      <th>Model</th>\n",
       "      <th>Training Score</th>\n",
       "      <th>Testing Score</th>\n",
       "    </tr>\n",
       "  </thead>\n",
       "  <tbody>\n",
       "    <tr>\n",
       "      <th>0</th>\n",
       "      <td>Linear Regression</td>\n",
       "      <td>66.385968</td>\n",
       "      <td>61.607620</td>\n",
       "    </tr>\n",
       "    <tr>\n",
       "      <th>1</th>\n",
       "      <td>Lasso</td>\n",
       "      <td>48.349858</td>\n",
       "      <td>48.247591</td>\n",
       "    </tr>\n",
       "    <tr>\n",
       "      <th>2</th>\n",
       "      <td>Ridge Regression</td>\n",
       "      <td>66.223220</td>\n",
       "      <td>63.989954</td>\n",
       "    </tr>\n",
       "    <tr>\n",
       "      <th>3</th>\n",
       "      <td>Decision Tree</td>\n",
       "      <td>100.000000</td>\n",
       "      <td>17.900000</td>\n",
       "    </tr>\n",
       "    <tr>\n",
       "      <th>4</th>\n",
       "      <td>Random Fprest</td>\n",
       "      <td>91.619505</td>\n",
       "      <td>0.544860</td>\n",
       "    </tr>\n",
       "  </tbody>\n",
       "</table>\n",
       "</div>"
      ],
      "text/plain": [
       "               Model  Training Score  Testing Score\n",
       "0  Linear Regression       66.385968      61.607620\n",
       "1              Lasso       48.349858      48.247591\n",
       "2   Ridge Regression       66.223220      63.989954\n",
       "3      Decision Tree      100.000000      17.900000\n",
       "4      Random Fprest       91.619505       0.544860"
      ]
     },
     "execution_count": 20,
     "metadata": {},
     "output_type": "execute_result"
    }
   ],
   "source": [
    "result = pd.DataFrame({\n",
    "    'Model': ['Linear Regression', 'Lasso','Ridge Regression', 'Decision Tree','Random Fprest'],\n",
    "    'Training Score': [acc_lr, acc_las, acc_ri, acc_dt, acc_rfr],\n",
    "    'Testing Score': [acc_lr1, acc_las1, acc_ri1, acc_dt1, acc_rfr1],\n",
    "    })\n",
    "result"
   ]
  },
  {
   "cell_type": "code",
   "execution_count": 21,
   "metadata": {},
   "outputs": [
    {
     "data": {
      "text/plain": [
       "Text(0,0.5,'Accuracy')"
      ]
     },
     "execution_count": 21,
     "metadata": {},
     "output_type": "execute_result"
    },
    {
     "data": {
      "image/png": "[encoded data removed]",
      "text/plain": [
       "<Figure size 720x432 with 1 Axes>"
      ]
     },
     "metadata": {
      "needs_background": "light"
     },
     "output_type": "display_data"
    }
   ],
   "source": [
    "result.plot(kind = 'bar', x = 'Model', figsize = (10, 6))\n",
    "plt.xticks(rotation = 'horizontal')\n",
    "plt.ylabel('Accuracy')"
   ]
  },
  {
   "cell_type": "code",
   "execution_count": null,
   "metadata": {},
   "outputs": [],
   "source": []
  }
 ],
 "metadata": {
  "kernelspec": {
   "display_name": "Python 3",
   "language": "python",
   "name": "python3"
  },
  "language_info": {
   "codemirror_mode": {
    "name": "ipython",
    "version": 3
   },
   "file_extension": ".py",
   "mimetype": "text/x-python",
   "name": "python",
   "nbconvert_exporter": "python",
   "pygments_lexer": "ipython3",
   "version": "3.7.0"
  }
 },
 "nbformat": 4,
 "nbformat_minor": 2
}
